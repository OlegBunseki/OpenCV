{
 "cells": [
  {
   "cell_type": "markdown",
   "id": "neither-johnston",
   "metadata": {},
   "source": [
    "# <font style = \"color:rgb(50,120,229)\">Implementation of Morphological Operations</font>\n",
    "We had discussed how to use dilation and erosion operations in the previous section. In this section, we will see what is going on under the hood. The most important concept that you need to understand is the Structuring element. We will discuss about the structuring element and how it is used for performing these morphological operations."
   ]
  },
  {
   "cell_type": "markdown",
   "id": "european-union",
   "metadata": {},
   "source": [
    "## <font style=\"color:rgb(50,120,229)\">Implement Method 2</font>\n",
    "1. Scan through the image and superimpose the kernel on the neighborhood of each pixel. \n",
    "1. Perform an AND operation of the neighborhood with the kernel.\n",
    "1. Replace the pixel value with the `maximum` value in the neighborhood given by the kernel. \n",
    "\n",
    "This means that you check every pixel and its neighborhood with respect to the kernel and change the pixel to white if any of the pixel in this neighborhood is white. OpenCV implements an optimized version of this method. This will work even if the image is not a binary image."
   ]
  },
  {
   "cell_type": "markdown",
   "id": "opened-somerset",
   "metadata": {},
   "source": [
    "## <font style=\"color:rgb(50,120,229)\">Import Libraries </font>"
   ]
  },
  {
   "cell_type": "code",
   "execution_count": 1,
   "id": "exceptional-professor",
   "metadata": {},
   "outputs": [],
   "source": [
    "import cv2\n",
    "import numpy as np\n",
    "DATA_PATH = './data/'\n",
    "import matplotlib.pyplot as plt\n",
    "%matplotlib inline"
   ]
  },
  {
   "cell_type": "code",
   "execution_count": 2,
   "id": "communist-opposition",
   "metadata": {},
   "outputs": [],
   "source": [
    "import matplotlib\n",
    "matplotlib.rcParams['figure.figsize'] = (6.0, 6.0)\n",
    "matplotlib.rcParams['image.cmap'] = 'gray'"
   ]
  },
  {
   "cell_type": "markdown",
   "id": "dressed-fleece",
   "metadata": {},
   "source": [
    "# <font style=\"color:rgb(50,120,229)\">Create a Demo Image</font>\n",
    "## <font style=\"color:rgb(50,120,229)\">Create an empty matrix </font>"
   ]
  },
  {
   "cell_type": "code",
   "execution_count": 3,
   "id": "flying-writing",
   "metadata": {},
   "outputs": [
    {
     "name": "stdout",
     "output_type": "stream",
     "text": [
      "[[0 0 0 0 0 0 0 0 0 0]\n",
      " [0 0 0 0 0 0 0 0 0 0]\n",
      " [0 0 0 0 0 0 0 0 0 0]\n",
      " [0 0 0 0 0 0 0 0 0 0]\n",
      " [0 0 0 0 0 0 0 0 0 0]\n",
      " [0 0 0 0 0 0 0 0 0 0]\n",
      " [0 0 0 0 0 0 0 0 0 0]\n",
      " [0 0 0 0 0 0 0 0 0 0]\n",
      " [0 0 0 0 0 0 0 0 0 0]\n",
      " [0 0 0 0 0 0 0 0 0 0]]\n"
     ]
    },
    {
     "data": {
      "image/png": "[encoded data removed]",
      "text/plain": [
       "<Figure size 432x432 with 1 Axes>"
      ]
     },
     "metadata": {
      "needs_background": "light"
     },
     "output_type": "display_data"
    }
   ],
   "source": [
    "im = np.zeros((10,10),dtype='uint8')\n",
    "print(im)\n",
    "plt.imshow(im)\n",
    "plt.show()"
   ]
  },
  {
   "cell_type": "markdown",
   "id": "japanese-tragedy",
   "metadata": {},
   "source": [
    "## <font style=\"color:rgb(50,120,229)\">Lets add some white blobs</font>\n",
    "\n",
    "We have added the blobs at different places so that all boundary cases are covered in this example."
   ]
  },
  {
   "cell_type": "code",
   "execution_count": 4,
   "id": "surface-beauty",
   "metadata": {},
   "outputs": [
    {
     "name": "stdout",
     "output_type": "stream",
     "text": [
      "[[0 1 0 0 0 0 0 0 0 0]\n",
      " [0 0 0 0 0 0 0 0 0 0]\n",
      " [0 0 1 0 0 0 0 0 0 0]\n",
      " [0 0 0 0 0 0 0 0 0 0]\n",
      " [0 0 0 0 0 0 0 0 0 0]\n",
      " [0 0 0 0 0 1 1 1 0 0]\n",
      " [0 0 0 0 0 1 1 1 0 0]\n",
      " [0 0 0 0 0 1 1 1 0 0]\n",
      " [0 0 0 0 0 0 0 0 0 1]\n",
      " [1 0 0 0 0 0 0 0 0 0]]\n"
     ]
    },
    {
     "data": {
      "image/png": "[encoded data removed]",
      "text/plain": [
       "<Figure size 432x432 with 1 Axes>"
      ]
     },
     "metadata": {
      "needs_background": "light"
     },
     "output_type": "display_data"
    }
   ],
   "source": [
    "im[0, 1] = 1\n",
    "im[-1, 0]= 1\n",
    "im[-2, -1]=1\n",
    "im[2, 2] = 1\n",
    "im[5:8, 5:8] = 1\n",
    "\n",
    "print(im)\n",
    "plt.imshow(im)\n",
    "plt.show()"
   ]
  },
  {
   "cell_type": "markdown",
   "id": "further-chair",
   "metadata": {},
   "source": [
    "This becomes our demo Image for illustration purpose"
   ]
  },
  {
   "cell_type": "markdown",
   "id": "traditional-belize",
   "metadata": {},
   "source": [
    "## <font style=\"color:rgb(50,120,229)\">Create an Ellipse Structuring Element </font>\n",
    "Let us create a 3x3 ellipse structuring element."
   ]
  },
  {
   "cell_type": "code",
   "execution_count": 5,
   "id": "harmful-judgment",
   "metadata": {},
   "outputs": [
    {
     "name": "stdout",
     "output_type": "stream",
     "text": [
      "[[0 1 0]\n",
      " [1 1 1]\n",
      " [0 1 0]]\n",
      "(3, 3)\n"
     ]
    }
   ],
   "source": [
    "element = cv2.getStructuringElement(cv2.MORPH_ELLIPSE, (3, 3))\n",
    "print(element)\n",
    "print(element.shape)"
   ]
  },
  {
   "cell_type": "code",
   "execution_count": 6,
   "id": "embedded-corruption",
   "metadata": {},
   "outputs": [
    {
     "name": "stdout",
     "output_type": "stream",
     "text": [
      "3\n"
     ]
    }
   ],
   "source": [
    "ksize = element.shape[0]\n",
    "print(ksize)"
   ]
  },
  {
   "cell_type": "code",
   "execution_count": 7,
   "id": "shared-simon",
   "metadata": {},
   "outputs": [
    {
     "name": "stdout",
     "output_type": "stream",
     "text": [
      "(10, 10)\n",
      "height = 10\n",
      "width = 10\n"
     ]
    }
   ],
   "source": [
    "print(im.shape)\n",
    "height, width = im.shape[:2]\n",
    "print('height =', height)\n",
    "print('width =', width)"
   ]
  },
  {
   "cell_type": "markdown",
   "id": "pleased-individual",
   "metadata": {},
   "source": [
    "## <font style=\"color:rgb(50,120,229)\">First check the correct output using cv2.dilate</font>"
   ]
  },
  {
   "cell_type": "code",
   "execution_count": 8,
   "id": "seasonal-tomorrow",
   "metadata": {},
   "outputs": [
    {
     "name": "stdout",
     "output_type": "stream",
     "text": [
      "[[1 1 1 0 0 0 0 0 0 0]\n",
      " [0 1 1 0 0 0 0 0 0 0]\n",
      " [0 1 1 1 0 0 0 0 0 0]\n",
      " [0 0 1 0 0 0 0 0 0 0]\n",
      " [0 0 0 0 0 1 1 1 0 0]\n",
      " [0 0 0 0 1 1 1 1 1 0]\n",
      " [0 0 0 0 1 1 1 1 1 0]\n",
      " [0 0 0 0 1 1 1 1 1 1]\n",
      " [1 0 0 0 0 1 1 1 1 1]\n",
      " [1 1 0 0 0 0 0 0 0 1]]\n"
     ]
    },
    {
     "data": {
      "image/png": "[encoded data removed]",
      "text/plain": [
       "<Figure size 432x432 with 1 Axes>"
      ]
     },
     "metadata": {
      "needs_background": "light"
     },
     "output_type": "display_data"
    }
   ],
   "source": [
    "dilatedEllipseKernel = cv2.dilate(im, element)\n",
    "print(dilatedEllipseKernel)\n",
    "plt.imshow(dilatedEllipseKernel)\n",
    "plt.show()"
   ]
  },
  {
   "cell_type": "markdown",
   "id": "documented-throw",
   "metadata": {},
   "source": [
    "## <font style=\"color:rgb(50,120,229)\">Write Code for Dilation from scratch</font>\n",
    "\n",
    "Create a VideoWriter object and write the result obtained at the end of each iteration to the object. Save the video to **`dilationScratch.avi`** and display it using markdown below:\n",
    "\n",
    "**`dilationScratch.avi` will come here**  \n",
    "<video width=\"320\" height=\"240\" controls>\n",
    "  <source src=\"dilationScratch.mp4\" type=\"video/mp4\">\n",
    "</video>\n",
    "\n",
    "**Note**\n",
    "\n",
    "1. Use FPS as 10 and frame size as 50x50\n",
    "2. Before writing the frame, resize it to 50x50\n",
    "3. Convert the resized frame to BGR\n",
    "4. Release the object"
   ]
  },
  {
   "cell_type": "code",
   "execution_count": 9,
   "id": "curious-leather",
   "metadata": {},
   "outputs": [
    {
     "name": "stdout",
     "output_type": "stream",
     "text": [
      "1\n",
      "\n",
      "(12, 12)\n",
      "[[0. 0. 0. 0. 0. 0. 0. 0. 0. 0. 0. 0.]\n",
      " [0. 0. 0. 0. 0. 0. 0. 0. 0. 0. 0. 0.]\n",
      " [0. 0. 0. 0. 0. 0. 0. 0. 0. 0. 0. 0.]\n",
      " [0. 0. 0. 0. 0. 0. 0. 0. 0. 0. 0. 0.]\n",
      " [0. 0. 0. 0. 0. 0. 0. 0. 0. 0. 0. 0.]\n",
      " [0. 0. 0. 0. 0. 0. 0. 0. 0. 0. 0. 0.]\n",
      " [0. 0. 0. 0. 0. 0. 0. 0. 0. 0. 0. 0.]\n",
      " [0. 0. 0. 0. 0. 0. 0. 0. 0. 0. 0. 0.]\n",
      " [0. 0. 0. 0. 0. 0. 0. 0. 0. 0. 0. 0.]\n",
      " [0. 0. 0. 0. 0. 0. 0. 0. 0. 0. 0. 0.]\n",
      " [0. 0. 0. 0. 0. 0. 0. 0. 0. 0. 0. 0.]\n",
      " [0. 0. 0. 0. 0. 0. 0. 0. 0. 0. 0. 0.]]\n",
      "\n",
      "(12, 12)\n",
      "[[0 0 0 0 0 0 0 0 0 0 0 0]\n",
      " [0 0 1 0 0 0 0 0 0 0 0 0]\n",
      " [0 0 0 0 0 0 0 0 0 0 0 0]\n",
      " [0 0 0 1 0 0 0 0 0 0 0 0]\n",
      " [0 0 0 0 0 0 0 0 0 0 0 0]\n",
      " [0 0 0 0 0 0 0 0 0 0 0 0]\n",
      " [0 0 0 0 0 0 1 1 1 0 0 0]\n",
      " [0 0 0 0 0 0 1 1 1 0 0 0]\n",
      " [0 0 0 0 0 0 1 1 1 0 0 0]\n",
      " [0 0 0 0 0 0 0 0 0 0 1 0]\n",
      " [0 1 0 0 0 0 0 0 0 0 0 0]\n",
      " [0 0 0 0 0 0 0 0 0 0 0 0]]\n",
      "\n",
      "(12, 12)\n",
      "[[0 0 0 0 0 0 0 0 0 0 0 0]\n",
      " [0 0 1 0 0 0 0 0 0 0 0 0]\n",
      " [0 0 0 0 0 0 0 0 0 0 0 0]\n",
      " [0 0 0 1 0 0 0 0 0 0 0 0]\n",
      " [0 0 0 0 0 0 0 0 0 0 0 0]\n",
      " [0 0 0 0 0 0 0 0 0 0 0 0]\n",
      " [0 0 0 0 0 0 1 1 1 0 0 0]\n",
      " [0 0 0 0 0 0 1 1 1 0 0 0]\n",
      " [0 0 0 0 0 0 1 1 1 0 0 0]\n",
      " [0 0 0 0 0 0 0 0 0 0 1 0]\n",
      " [0 1 0 0 0 0 0 0 0 0 0 0]\n",
      " [0 0 0 0 0 0 0 0 0 0 0 0]]\n",
      "\n"
     ]
    }
   ],
   "source": [
    "# How many lines to add on top / left / bottom / right to make sure the kernel runs correctly\n",
    "# Kernel starts at the top left.\n",
    "# kernel do no padding (like in CNN)\n",
    "border = ksize//2\n",
    "print(border)\n",
    "print()\n",
    "\n",
    "# Create the padded Image with zeros\n",
    "paddedIm = np.zeros((height + border*2, width + border*2))\n",
    "print(paddedIm.shape)\n",
    "print(paddedIm)\n",
    "print()\n",
    "\n",
    "# Copy the original image inside the padded image with zeros\n",
    "paddedIm = cv2.copyMakeBorder(im, border, border, border, border, cv2.BORDER_CONSTANT, value = 0)\n",
    "print(paddedIm.shape)\n",
    "print(paddedIm)\n",
    "print()\n",
    "\n",
    "# Create a copy of the filled padded image\n",
    "paddedDilatedIm = paddedIm.copy()\n",
    "print(paddedDilatedIm.shape)\n",
    "print(paddedDilatedIm)\n",
    "print()"
   ]
  },
  {
   "cell_type": "code",
   "execution_count": 10,
   "id": "solid-rugby",
   "metadata": {},
   "outputs": [
    {
     "name": "stdout",
     "output_type": "stream",
     "text": [
      "Coloring white pixel @ 1, 1\n"
     ]
    },
    {
     "data": {
      "image/png": "[encoded data removed]",
      "text/plain": [
       "<Figure size 432x432 with 1 Axes>"
      ]
     },
     "metadata": {
      "needs_background": "light"
     },
     "output_type": "display_data"
    },
    {
     "name": "stdout",
     "output_type": "stream",
     "text": [
      "Coloring white pixel @ 3, 1\n"
     ]
    },
    {
     "data": {
      "image/png": "[encoded data removed]",
      "text/plain": [
       "<Figure size 432x432 with 1 Axes>"
      ]
     },
     "metadata": {
      "needs_background": "light"
     },
     "output_type": "display_data"
    },
    {
     "name": "stdout",
     "output_type": "stream",
     "text": [
      "Coloring white pixel @ 2, 2\n"
     ]
    },
    {
     "data": {
      "image/png": "[encoded data removed]",
      "text/plain": [
       "<Figure size 432x432 with 1 Axes>"
      ]
     },
     "metadata": {
      "needs_background": "light"
     },
     "output_type": "display_data"
    },
    {
     "name": "stdout",
     "output_type": "stream",
     "text": [
      "Coloring white pixel @ 3, 2\n"
     ]
    },
    {
     "data": {
      "image/png": "[encoded data removed]",
      "text/plain": [
       "<Figure size 432x432 with 1 Axes>"
      ]
     },
     "metadata": {
      "needs_background": "light"
     },
     "output_type": "display_data"
    },
    {
     "name": "stdout",
     "output_type": "stream",
     "text": [
      "Coloring white pixel @ 2, 3\n"
     ]
    },
    {
     "data": {
      "image/png": "[encoded data removed]",
      "text/plain": [
       "<Figure size 432x432 with 1 Axes>"
      ]
     },
     "metadata": {
      "needs_background": "light"
     },
     "output_type": "display_data"
    },
    {
     "name": "stdout",
     "output_type": "stream",
     "text": [
      "Coloring white pixel @ 4, 3\n"
     ]
    },
    {
     "data": {
      "image/png": "[encoded data removed]",
      "text/plain": [
       "<Figure size 432x432 with 1 Axes>"
      ]
     },
     "metadata": {
      "needs_background": "light"
     },
     "output_type": "display_data"
    },
    {
     "name": "stdout",
     "output_type": "stream",
     "text": [
      "Coloring white pixel @ 3, 4\n"
     ]
    },
    {
     "data": {
      "image/png": "[encoded data removed]",
      "text/plain": [
       "<Figure size 432x432 with 1 Axes>"
      ]
     },
     "metadata": {
      "needs_background": "light"
     },
     "output_type": "display_data"
    },
    {
     "name": "stdout",
     "output_type": "stream",
     "text": [
      "Coloring white pixel @ 6, 5\n"
     ]
    },
    {
     "data": {
      "image/png": "[encoded data removed]",
      "text/plain": [
       "<Figure size 432x432 with 1 Axes>"
      ]
     },
     "metadata": {
      "needs_background": "light"
     },
     "output_type": "display_data"
    },
    {
     "name": "stdout",
     "output_type": "stream",
     "text": [
      "Coloring white pixel @ 7, 5\n"
     ]
    },
    {
     "data": {
      "image/png": "[encoded data removed]",
      "text/plain": [
       "<Figure size 432x432 with 1 Axes>"
      ]
     },
     "metadata": {
      "needs_background": "light"
     },
     "output_type": "display_data"
    },
    {
     "name": "stdout",
     "output_type": "stream",
     "text": [
      "Coloring white pixel @ 8, 5\n"
     ]
    },
    {
     "data": {
      "image/png": "[encoded data removed]",
      "text/plain": [
       "<Figure size 432x432 with 1 Axes>"
      ]
     },
     "metadata": {
      "needs_background": "light"
     },
     "output_type": "display_data"
    },
    {
     "name": "stdout",
     "output_type": "stream",
     "text": [
      "Coloring white pixel @ 5, 6\n"
     ]
    },
    {
     "data": {
      "image/png": "[encoded data removed]",
      "text/plain": [
       "<Figure size 432x432 with 1 Axes>"
      ]
     },
     "metadata": {
      "needs_background": "light"
     },
     "output_type": "display_data"
    },
    {
     "name": "stdout",
     "output_type": "stream",
     "text": [
      "Coloring white pixel @ 6, 6\n"
     ]
    },
    {
     "data": {
      "image/png": "[encoded data removed]",
      "text/plain": [
       "<Figure size 432x432 with 1 Axes>"
      ]
     },
     "metadata": {
      "needs_background": "light"
     },
     "output_type": "display_data"
    },
    {
     "name": "stdout",
     "output_type": "stream",
     "text": [
      "Coloring white pixel @ 7, 6\n"
     ]
    },
    {
     "data": {
      "image/png": "[encoded data removed]",
      "text/plain": [
       "<Figure size 432x432 with 1 Axes>"
      ]
     },
     "metadata": {
      "needs_background": "light"
     },
     "output_type": "display_data"
    },
    {
     "name": "stdout",
     "output_type": "stream",
     "text": [
      "Coloring white pixel @ 8, 6\n"
     ]
    },
    {
     "data": {
      "image/png": "[encoded data removed]",
      "text/plain": [
       "<Figure size 432x432 with 1 Axes>"
      ]
     },
     "metadata": {
      "needs_background": "light"
     },
     "output_type": "display_data"
    },
    {
     "name": "stdout",
     "output_type": "stream",
     "text": [
      "Coloring white pixel @ 9, 6\n"
     ]
    },
    {
     "data": {
      "image/png": "[encoded data removed]",
      "text/plain": [
       "<Figure size 432x432 with 1 Axes>"
      ]
     },
     "metadata": {
      "needs_background": "light"
     },
     "output_type": "display_data"
    },
    {
     "name": "stdout",
     "output_type": "stream",
     "text": [
      "Coloring white pixel @ 5, 7\n"
     ]
    },
    {
     "data": {
      "image/png": "[encoded data removed]",
      "text/plain": [
       "<Figure size 432x432 with 1 Axes>"
      ]
     },
     "metadata": {
      "needs_background": "light"
     },
     "output_type": "display_data"
    },
    {
     "name": "stdout",
     "output_type": "stream",
     "text": [
      "Coloring white pixel @ 6, 7\n"
     ]
    },
    {
     "data": {
      "image/png": "[encoded data removed]",
      "text/plain": [
       "<Figure size 432x432 with 1 Axes>"
      ]
     },
     "metadata": {
      "needs_background": "light"
     },
     "output_type": "display_data"
    },
    {
     "name": "stdout",
     "output_type": "stream",
     "text": [
      "Coloring white pixel @ 7, 7\n"
     ]
    },
    {
     "data": {
      "image/png": "[encoded data removed]",
      "text/plain": [
       "<Figure size 432x432 with 1 Axes>"
      ]
     },
     "metadata": {
      "needs_background": "light"
     },
     "output_type": "display_data"
    },
    {
     "name": "stdout",
     "output_type": "stream",
     "text": [
      "Coloring white pixel @ 8, 7\n"
     ]
    },
    {
     "data": {
      "image/png": "[encoded data removed]",
      "text/plain": [
       "<Figure size 432x432 with 1 Axes>"
      ]
     },
     "metadata": {
      "needs_background": "light"
     },
     "output_type": "display_data"
    },
    {
     "name": "stdout",
     "output_type": "stream",
     "text": [
      "Coloring white pixel @ 9, 7\n"
     ]
    },
    {
     "data": {
      "image/png": "[encoded data removed]",
      "text/plain": [
       "<Figure size 432x432 with 1 Axes>"
      ]
     },
     "metadata": {
      "needs_background": "light"
     },
     "output_type": "display_data"
    },
    {
     "name": "stdout",
     "output_type": "stream",
     "text": [
      "Coloring white pixel @ 5, 8\n"
     ]
    },
    {
     "data": {
      "image/png": "[encoded data removed]",
      "text/plain": [
       "<Figure size 432x432 with 1 Axes>"
      ]
     },
     "metadata": {
      "needs_background": "light"
     },
     "output_type": "display_data"
    },
    {
     "name": "stdout",
     "output_type": "stream",
     "text": [
      "Coloring white pixel @ 6, 8\n"
     ]
    },
    {
     "data": {
      "image/png": "[encoded data removed]",
      "text/plain": [
       "<Figure size 432x432 with 1 Axes>"
      ]
     },
     "metadata": {
      "needs_background": "light"
     },
     "output_type": "display_data"
    },
    {
     "name": "stdout",
     "output_type": "stream",
     "text": [
      "Coloring white pixel @ 7, 8\n"
     ]
    },
    {
     "data": {
      "image/png": "[encoded data removed]",
      "text/plain": [
       "<Figure size 432x432 with 1 Axes>"
      ]
     },
     "metadata": {
      "needs_background": "light"
     },
     "output_type": "display_data"
    },
    {
     "name": "stdout",
     "output_type": "stream",
     "text": [
      "Coloring white pixel @ 8, 8\n"
     ]
    },
    {
     "data": {
      "image/png": "[encoded data removed]",
      "text/plain": [
       "<Figure size 432x432 with 1 Axes>"
      ]
     },
     "metadata": {
      "needs_background": "light"
     },
     "output_type": "display_data"
    },
    {
     "name": "stdout",
     "output_type": "stream",
     "text": [
      "Coloring white pixel @ 9, 8\n"
     ]
    },
    {
     "data": {
      "image/png": "[encoded data removed]",
      "text/plain": [
       "<Figure size 432x432 with 1 Axes>"
      ]
     },
     "metadata": {
      "needs_background": "light"
     },
     "output_type": "display_data"
    },
    {
     "name": "stdout",
     "output_type": "stream",
     "text": [
      "Coloring white pixel @ 10, 8\n"
     ]
    },
    {
     "data": {
      "image/png": "[encoded data removed]",
      "text/plain": [
       "<Figure size 432x432 with 1 Axes>"
      ]
     },
     "metadata": {
      "needs_background": "light"
     },
     "output_type": "display_data"
    },
    {
     "name": "stdout",
     "output_type": "stream",
     "text": [
      "Coloring white pixel @ 1, 9\n"
     ]
    },
    {
     "data": {
      "image/png": "[encoded data removed]",
      "text/plain": [
       "<Figure size 432x432 with 1 Axes>"
      ]
     },
     "metadata": {
      "needs_background": "light"
     },
     "output_type": "display_data"
    },
    {
     "name": "stdout",
     "output_type": "stream",
     "text": [
      "Coloring white pixel @ 6, 9\n"
     ]
    },
    {
     "data": {
      "image/png": "[encoded data removed]",
      "text/plain": [
       "<Figure size 432x432 with 1 Axes>"
      ]
     },
     "metadata": {
      "needs_background": "light"
     },
     "output_type": "display_data"
    },
    {
     "name": "stdout",
     "output_type": "stream",
     "text": [
      "Coloring white pixel @ 7, 9\n"
     ]
    },
    {
     "data": {
      "image/png": "[encoded data removed]",
      "text/plain": [
       "<Figure size 432x432 with 1 Axes>"
      ]
     },
     "metadata": {
      "needs_background": "light"
     },
     "output_type": "display_data"
    },
    {
     "name": "stdout",
     "output_type": "stream",
     "text": [
      "Coloring white pixel @ 8, 9\n"
     ]
    },
    {
     "data": {
      "image/png": "[encoded data removed]",
      "text/plain": [
       "<Figure size 432x432 with 1 Axes>"
      ]
     },
     "metadata": {
      "needs_background": "light"
     },
     "output_type": "display_data"
    },
    {
     "name": "stdout",
     "output_type": "stream",
     "text": [
      "Coloring white pixel @ 9, 9\n"
     ]
    },
    {
     "data": {
      "image/png": "[encoded data removed]",
      "text/plain": [
       "<Figure size 432x432 with 1 Axes>"
      ]
     },
     "metadata": {
      "needs_background": "light"
     },
     "output_type": "display_data"
    },
    {
     "name": "stdout",
     "output_type": "stream",
     "text": [
      "Coloring white pixel @ 2, 10\n"
     ]
    },
    {
     "data": {
      "image/png": "[encoded data removed]",
      "text/plain": [
       "<Figure size 432x432 with 1 Axes>"
      ]
     },
     "metadata": {
      "needs_background": "light"
     },
     "output_type": "display_data"
    },
    {
     "name": "stdout",
     "output_type": "stream",
     "text": [
      "Coloring white pixel @ 10, 10\n"
     ]
    },
    {
     "data": {
      "image/png": "[encoded data removed]",
      "text/plain": [
       "<Figure size 432x432 with 1 Axes>"
      ]
     },
     "metadata": {
      "needs_background": "light"
     },
     "output_type": "display_data"
    },
    {
     "name": "stdout",
     "output_type": "stream",
     "text": [
      "Final Padded Picture\n"
     ]
    },
    {
     "data": {
      "image/png": "[encoded data removed]",
      "text/plain": [
       "<Figure size 432x432 with 1 Axes>"
      ]
     },
     "metadata": {
      "needs_background": "light"
     },
     "output_type": "display_data"
    }
   ],
   "source": [
    "border = ksize//2\n",
    "paddedIm = np.zeros((height + border*2, width + border*2))\n",
    "paddedIm = cv2.copyMakeBorder(im, border, border, border, border, cv2.BORDER_CONSTANT, value = 0)\n",
    "paddedDilatedIm = paddedIm.copy()\n",
    "\n",
    "target_heigth, target_width = 50, 50\n",
    "\n",
    "# Create a VideoWriter object\n",
    "codec = cv2.VideoWriter_fourcc('M','J','P','G')\n",
    "# codec = cv2.VideoWriter_fourcc(*'mp4v')\n",
    "# codec = cv2.VideoWriter_fourcc('m', 'p', '4', 'v')\n",
    "\n",
    "width_vieo, height_video = (target_width, target_heigth)\n",
    "fps = 10\n",
    "out = cv2.VideoWriter('dilationScratch.avi', codec, fps, (width_vieo, height_video))\n",
    "\n",
    "for h_i in range(border, height+border):        # from 1 to 11\n",
    "    for w_i in range(border, width+border):     # from 1 to 11\n",
    "        \n",
    "        top = paddedIm[h_i-1, w_i]\n",
    "        right = paddedIm[h_i, w_i+1]\n",
    "        buttom = paddedIm[h_i+1, w_i]\n",
    "        left = paddedIm[h_i, w_i-1]\n",
    "        \n",
    "        if max(top, right, buttom, left) == 1:\n",
    "            print('Coloring white pixel @ {}, {}'.format(w_i, h_i))\n",
    "            paddedDilatedIm[h_i, w_i] = 1\n",
    "            plt.imshow(paddedDilatedIm)\n",
    "            plt.show()\n",
    "\n",
    "        # Select the frame (without borders)\n",
    "        image = paddedDilatedIm[border:height+border, border:width+border]\n",
    "        \n",
    "        # Resize output to 50x50 before writing it to the video\n",
    "        image = cv2.resize(image, (target_heigth, target_width), interpolation=cv2.INTER_NEAREST)\n",
    "        \n",
    "        # Convert resizedFrame to BGR\n",
    "        image = cv2.cvtColor(image*255, cv2.COLOR_GRAY2BGR)\n",
    "    \n",
    "        # Write out the array\n",
    "        out.write(image)            \n",
    "\n",
    "# Release the VideoWriter object\n",
    "print('Final Padded Picture')\n",
    "plt.imshow(image)\n",
    "plt.show()\n",
    "out.release()"
   ]
  },
  {
   "cell_type": "code",
   "execution_count": 11,
   "id": "dependent-negotiation",
   "metadata": {},
   "outputs": [
    {
     "data": {
      "image/png": "[encoded data removed]",
      "text/plain": [
       "<Figure size 432x432 with 1 Axes>"
      ]
     },
     "metadata": {
      "needs_background": "light"
     },
     "output_type": "display_data"
    }
   ],
   "source": [
    "# Display final image (cropped)\n",
    "plt.imshow(image)\n",
    "plt.show()"
   ]
  },
  {
   "cell_type": "markdown",
   "id": "noble-sacrifice",
   "metadata": {},
   "source": [
    "# <font style=\"color:rgb(50,120,229)\">Implement Erosion </font>"
   ]
  },
  {
   "cell_type": "markdown",
   "id": "played-moisture",
   "metadata": {},
   "source": [
    "## <font style=\"color:rgb(50,120,229)\">Check the correct output using cv2.erode </font>"
   ]
  },
  {
   "cell_type": "code",
   "execution_count": 12,
   "id": "federal-debate",
   "metadata": {},
   "outputs": [
    {
     "name": "stdout",
     "output_type": "stream",
     "text": [
      "[[0 0 0 0 0 0 0 0 0 0]\n",
      " [0 0 0 0 0 0 0 0 0 0]\n",
      " [0 0 0 0 0 0 0 0 0 0]\n",
      " [0 0 0 0 0 0 0 0 0 0]\n",
      " [0 0 0 0 0 0 0 0 0 0]\n",
      " [0 0 0 0 0 0 0 0 0 0]\n",
      " [0 0 0 0 0 0 1 0 0 0]\n",
      " [0 0 0 0 0 0 0 0 0 0]\n",
      " [0 0 0 0 0 0 0 0 0 0]\n",
      " [0 0 0 0 0 0 0 0 0 0]]\n"
     ]
    },
    {
     "data": {
      "image/png": "[encoded data removed]",
      "text/plain": [
       "<Figure size 432x432 with 1 Axes>"
      ]
     },
     "metadata": {
      "needs_background": "light"
     },
     "output_type": "display_data"
    }
   ],
   "source": [
    "ErodedEllipseKernel = cv2.erode(im, element)\n",
    "print(ErodedEllipseKernel)\n",
    "plt.imshow(ErodedEllipseKernel)\n",
    "plt.show()"
   ]
  },
  {
   "cell_type": "markdown",
   "id": "upset-patent",
   "metadata": {},
   "source": [
    "## <font style=\"color:rgb(50,120,229)\">Write code for Erosion from scratch</font>\n",
    "\n",
    "Create a VideoWriter object and write the result obtained at the end of each iteration to the object. Save the video to **`erosionScratch.avi`** and display it using markdown below:\n",
    "\n",
    "**`erosionScratch.avi` will come here**\n",
    "\n",
    "<video width=\"320\" height=\"240\" controls>\n",
    "  <source src=\"erosionScratch.avi\" type=\"video/mp4\">\n",
    "</video>\n",
    "\n",
    "**Note**\n",
    "\n",
    "1. Use FPS as 10 and frame size as 50x50\n",
    "2. Before writing the frame, resize it to 50x50\n",
    "3. Convert the resized frame to BGR\n",
    "4. Release the object"
   ]
  },
  {
   "cell_type": "code",
   "execution_count": 13,
   "id": "pleased-single",
   "metadata": {},
   "outputs": [
    {
     "name": "stdout",
     "output_type": "stream",
     "text": [
      "Coloring black pixel @ 2, 1\n"
     ]
    },
    {
     "data": {
      "image/png": "[encoded data removed]",
      "text/plain": [
       "<Figure size 432x432 with 1 Axes>"
      ]
     },
     "metadata": {
      "needs_background": "light"
     },
     "output_type": "display_data"
    },
    {
     "name": "stdout",
     "output_type": "stream",
     "text": [
      "Coloring black pixel @ 3, 3\n"
     ]
    },
    {
     "data": {
      "image/png": "[encoded data removed]",
      "text/plain": [
       "<Figure size 432x432 with 1 Axes>"
      ]
     },
     "metadata": {
      "needs_background": "light"
     },
     "output_type": "display_data"
    },
    {
     "name": "stdout",
     "output_type": "stream",
     "text": [
      "Coloring black pixel @ 6, 6\n"
     ]
    },
    {
     "data": {
      "image/png": "[encoded data removed]",
      "text/plain": [
       "<Figure size 432x432 with 1 Axes>"
      ]
     },
     "metadata": {
      "needs_background": "light"
     },
     "output_type": "display_data"
    },
    {
     "name": "stdout",
     "output_type": "stream",
     "text": [
      "Coloring black pixel @ 7, 6\n"
     ]
    },
    {
     "data": {
      "image/png": "[encoded data removed]",
      "text/plain": [
       "<Figure size 432x432 with 1 Axes>"
      ]
     },
     "metadata": {
      "needs_background": "light"
     },
     "output_type": "display_data"
    },
    {
     "name": "stdout",
     "output_type": "stream",
     "text": [
      "Coloring black pixel @ 8, 6\n"
     ]
    },
    {
     "data": {
      "image/png": "[encoded data removed]",
      "text/plain": [
       "<Figure size 432x432 with 1 Axes>"
      ]
     },
     "metadata": {
      "needs_background": "light"
     },
     "output_type": "display_data"
    },
    {
     "name": "stdout",
     "output_type": "stream",
     "text": [
      "Coloring black pixel @ 6, 7\n"
     ]
    },
    {
     "data": {
      "image/png": "[encoded data removed]",
      "text/plain": [
       "<Figure size 432x432 with 1 Axes>"
      ]
     },
     "metadata": {
      "needs_background": "light"
     },
     "output_type": "display_data"
    },
    {
     "name": "stdout",
     "output_type": "stream",
     "text": [
      "Coloring black pixel @ 8, 7\n"
     ]
    },
    {
     "data": {
      "image/png": "[encoded data removed]",
      "text/plain": [
       "<Figure size 432x432 with 1 Axes>"
      ]
     },
     "metadata": {
      "needs_background": "light"
     },
     "output_type": "display_data"
    },
    {
     "name": "stdout",
     "output_type": "stream",
     "text": [
      "Coloring black pixel @ 6, 8\n"
     ]
    },
    {
     "data": {
      "image/png": "[encoded data removed]",
      "text/plain": [
       "<Figure size 432x432 with 1 Axes>"
      ]
     },
     "metadata": {
      "needs_background": "light"
     },
     "output_type": "display_data"
    },
    {
     "name": "stdout",
     "output_type": "stream",
     "text": [
      "Coloring black pixel @ 7, 8\n"
     ]
    },
    {
     "data": {
      "image/png": "[encoded data removed]",
      "text/plain": [
       "<Figure size 432x432 with 1 Axes>"
      ]
     },
     "metadata": {
      "needs_background": "light"
     },
     "output_type": "display_data"
    },
    {
     "name": "stdout",
     "output_type": "stream",
     "text": [
      "Coloring black pixel @ 8, 8\n"
     ]
    },
    {
     "data": {
      "image/png": "[encoded data removed]",
      "text/plain": [
       "<Figure size 432x432 with 1 Axes>"
      ]
     },
     "metadata": {
      "needs_background": "light"
     },
     "output_type": "display_data"
    },
    {
     "name": "stdout",
     "output_type": "stream",
     "text": [
      "Coloring black pixel @ 10, 9\n"
     ]
    },
    {
     "data": {
      "image/png": "[encoded data removed]",
      "text/plain": [
       "<Figure size 432x432 with 1 Axes>"
      ]
     },
     "metadata": {
      "needs_background": "light"
     },
     "output_type": "display_data"
    },
    {
     "name": "stdout",
     "output_type": "stream",
     "text": [
      "Coloring black pixel @ 1, 10\n"
     ]
    },
    {
     "data": {
      "image/png": "[encoded data removed]",
      "text/plain": [
       "<Figure size 432x432 with 1 Axes>"
      ]
     },
     "metadata": {
      "needs_background": "light"
     },
     "output_type": "display_data"
    },
    {
     "name": "stdout",
     "output_type": "stream",
     "text": [
      "Final Padded Picture\n"
     ]
    },
    {
     "data": {
      "image/png": "[encoded data removed]",
      "text/plain": [
       "<Figure size 432x432 with 1 Axes>"
      ]
     },
     "metadata": {
      "needs_background": "light"
     },
     "output_type": "display_data"
    }
   ],
   "source": [
    "border = ksize//2\n",
    "paddedIm = np.zeros((height + border*2, width + border*2))\n",
    "paddedIm = cv2.copyMakeBorder(im, border, border, border, border, cv2.BORDER_CONSTANT, value = 0)\n",
    "paddedDilatedIm = paddedIm.copy()\n",
    "\n",
    "target_heigth, target_width = 50, 50\n",
    "\n",
    "# Create a VideoWriter object\n",
    "codec = cv2.VideoWriter_fourcc('M','J','P','G')\n",
    "# codec = cv2.VideoWriter_fourcc(*'mp4v')\n",
    "# codec = cv2.VideoWriter_fourcc('m', 'p', '4', 'v')\n",
    "\n",
    "width_vieo, height_video = (target_width, target_heigth)\n",
    "fps = 10\n",
    "out = cv2.VideoWriter('erosionScratch.avi', codec, fps, (width_vieo, height_video))\n",
    "\n",
    "for h_i in range(border, height+border):        # from 1 to 11\n",
    "    for w_i in range(border, width+border):     # from 1 to 11\n",
    "        \n",
    "        top = paddedIm[h_i-1, w_i]\n",
    "        right = paddedIm[h_i, w_i+1]\n",
    "        buttom = paddedIm[h_i+1, w_i]\n",
    "        left = paddedIm[h_i, w_i-1]\n",
    "        \n",
    "        if (min(top, right, buttom, left) == 0) and (paddedDilatedIm[h_i, w_i] != 0):\n",
    "            print('Coloring black pixel @ {}, {}'.format(w_i, h_i))\n",
    "            paddedDilatedIm[h_i, w_i] = 0\n",
    "            plt.imshow(paddedDilatedIm)\n",
    "            plt.show()\n",
    "\n",
    "        # Select the frame (without borders)\n",
    "        image = paddedDilatedIm[border:height+border, border:width+border]\n",
    "        \n",
    "        # Resize output to 50x50 before writing it to the video\n",
    "        image = cv2.resize(image, (target_heigth, target_width), interpolation=cv2.INTER_NEAREST)\n",
    "        \n",
    "        # Convert resizedFrame to BGR\n",
    "        image = cv2.cvtColor(image*255, cv2.COLOR_GRAY2BGR)    \n",
    "        \n",
    "        # Write out the array\n",
    "        out.write(image)            \n",
    "\n",
    "# Release the VideoWriter object\n",
    "print('Final Padded Picture')\n",
    "plt.imshow(image)\n",
    "plt.show()\n",
    "out.release()"
   ]
  },
  {
   "cell_type": "code",
   "execution_count": 14,
   "id": "canadian-northwest",
   "metadata": {},
   "outputs": [
    {
     "data": {
      "image/png": "[encoded data removed]",
      "text/plain": [
       "<Figure size 432x432 with 1 Axes>"
      ]
     },
     "metadata": {
      "needs_background": "light"
     },
     "output_type": "display_data"
    }
   ],
   "source": [
    "# Display final image (cropped)\n",
    "plt.imshow(image)\n",
    "plt.show()"
   ]
  }
 ],
 "metadata": {
  "kernelspec": {
   "display_name": "opencv+torch+v3",
   "language": "python",
   "name": "opencv_torch_v3"
  },
  "language_info": {
   "codemirror_mode": {
    "name": "ipython",
    "version": 3
   },
   "file_extension": ".py",
   "mimetype": "text/x-python",
   "name": "python",
   "nbconvert_exporter": "python",
   "pygments_lexer": "ipython3",
   "version": "3.7.9"
  }
 },
 "nbformat": 4,
 "nbformat_minor": 5
}
