{
 "cells": [
  {
   "cell_type": "code",
   "execution_count": 237,
   "id": "fundamental-istanbul",
   "metadata": {},
   "outputs": [
    {
     "name": "stdout",
     "output_type": "stream",
     "text": [
      "202\n",
      "Post Analyzer succeed\n"
     ]
    }
   ],
   "source": [
    "import json\n",
    "import time\n",
    "from requests import get, post\n",
    "\n",
    "endpoint = 'https://ocrbattleformrecon.cognitiveservices.azure.com/'\n",
    "apim_key = '0be9247e4e244d3e98e9de82b1b230c5'\n",
    "post_url = endpoint + '/formrecognizer/v2.1-preview.3/layout/analyze'\n",
    "\n",
    "doc01 = 'Arolsen_sample_1.jpg'\n",
    "doc02 = 'Arolsen_sample_8.jpg'\n",
    "doc03 = 'Arolsen_sample_11.jpg'\n",
    "doc04 = 'BArch R 9361-IX KARTEI 10175.tif'\n",
    "doc05 = 'BArch R 9361-IX KARTEI 10191.tif'\n",
    "doc06 = 'GAD Stadtplan detail.png'\n",
    "doc07 = 'GAD_postkarte_01.png'\n",
    "doc08 = 'GAD_postkarte_03.png'\n",
    "doc09 = 'Handschrift_20210225_175527.jpg'\n",
    "doc10 = 'Handschrift_MicrosoftTeams-image.png'\n",
    "doc11 = 'Handschrift_PlanetAI_Fachaustausch.pdf'\n",
    "doc12 = 'R_26_III_80001.jpg'\n",
    "doc13 = 'UdBhiR Auszug 2021-02-05_113812.pdf'\n",
    "\n",
    "format_dict = {'jpg': 'jpeg',\n",
    "              'png': 'png',\n",
    "              'pdf': 'pdf',\n",
    "              'tif': 'tiff'}\n",
    "\n",
    "doc = doc02\n",
    "\n",
    "source = 'C:/Users/smolanko/adesso Group/oneAI@adesso - OCR Technologie Battle - OCR Technologie Battle/Dokumentenauswahl/'+doc\n",
    "\n",
    "headers = {\n",
    "            'content-Type': 'image/'+format_dict[doc.split('.')[1]],\n",
    "            'Ocp-Apim-Subscription-Key': apim_key,\n",
    "          }\n",
    "\n",
    "with open(source, 'rb') as f:\n",
    "    data_bytes = f.read()\n",
    "    \n",
    "try:\n",
    "    resp = post(url=post_url, data=data_bytes, headers=headers)\n",
    "    print(resp.status_code)\n",
    "    if resp.status_code != 202:\n",
    "        print('Post Analyzer failed')\n",
    "        quit()\n",
    "    print('Post Analyzer succeed')\n",
    "    get_url = resp.headers[\"operation-location\"]\n",
    "    \n",
    "except Exception as e:\n",
    "    print('Post Analyzer failed')\n",
    "    print(e)\n",
    "    quit()"
   ]
  },
  {
   "cell_type": "code",
   "execution_count": 238,
   "id": "english-panic",
   "metadata": {},
   "outputs": [],
   "source": [
    "import time\n",
    "\n",
    "operation_url = resp.headers[\"Operation-Location\"]\n",
    "\n",
    "response_final = get(operation_url, headers=headers)\n",
    "\n",
    "status = response_final.json()['status']\n",
    "\n",
    "while status != 'succeeded':\n",
    "    response_final = get(operation_url, headers=headers)\n",
    "    time.sleep(1)\n",
    "    status = response_final.json()['status']\n",
    "\n",
    "response_json = response_final.json()    \n",
    "# response_json"
   ]
  },
  {
   "cell_type": "code",
   "execution_count": 244,
   "id": "incomplete-delivery",
   "metadata": {},
   "outputs": [
    {
     "name": "stdout",
     "output_type": "stream",
     "text": [
      "PAGE: 0\n",
      "DEM SONDERSTANDESAMT VORGELEGT\n",
      "Datum:\n",
      "Name: ... br.a.m.e.v.i.f.ch .. ... Maw.r.i.c.e ...... ..\n",
      "geboren am ....... 1944 ..... In ..... g.2.\n",
      "Nathansz .... 744\n",
      "gestorben am 21:3.19.30 .... 12 ...... InWeimar .- Buchenwald ....\n",
      "Todesursache .S.C.p.s ... s. 4. xEry Si pelphlegmon.e ....... Pr.mes\n",
      "beerdigt am ......\n",
      "in ...\n",
      "STERBEURKUNDE NrV1.14-444\n",
      "Datum :,\n",
      "ausgestellt aufgrund folgender Dokument\n",
      "1) Abramovits, Moric\n",
      "200 Krais\n",
      "bitte wenden\n"
     ]
    }
   ],
   "source": [
    "for page in range(len(response_json['analyzeResult']['readResults'])):\n",
    "    print('PAGE:', page)\n",
    "    for textline in response_json['analyzeResult']['readResults'][page]['lines']:\n",
    "        print(textline['text'])"
   ]
  },
  {
   "cell_type": "code",
   "execution_count": 242,
   "id": "rocky-performer",
   "metadata": {},
   "outputs": [
    {
     "name": "stdout",
     "output_type": "stream",
     "text": [
      "Tables: 1\n"
     ]
    }
   ],
   "source": [
    "import pandas as pd\n",
    "\n",
    "tableData = []\n",
    "tableList = []\n",
    "\n",
    "for page in range(len(response_json['analyzeResult']['pageResults'])):\n",
    "    \n",
    "    for table in response_json['analyzeResult']['pageResults'][page]['tables']:\n",
    "        \n",
    "        tableData = [[None for x in range(table['columns'])] for y in range(table['rows'])]\n",
    "\n",
    "        for cell in table['cells']:\n",
    "\n",
    "            tableData[cell['rowIndex']][cell['columnIndex']] = cell['text']\n",
    "\n",
    "    tableList.append(tableData)\n",
    "    \n",
    "print('Tables:', len(tableList))"
   ]
  },
  {
   "cell_type": "code",
   "execution_count": 243,
   "id": "female-cedar",
   "metadata": {},
   "outputs": [
    {
     "data": {
      "text/html": [
       "<div>\n",
       "<style scoped>\n",
       "    .dataframe tbody tr th:only-of-type {\n",
       "        vertical-align: middle;\n",
       "    }\n",
       "\n",
       "    .dataframe tbody tr th {\n",
       "        vertical-align: top;\n",
       "    }\n",
       "\n",
       "    .dataframe thead th {\n",
       "        text-align: right;\n",
       "    }\n",
       "</style>\n",
       "<table border=\"1\" class=\"dataframe\">\n",
       "  <thead>\n",
       "    <tr style=\"text-align: right;\">\n",
       "      <th></th>\n",
       "    </tr>\n",
       "  </thead>\n",
       "  <tbody>\n",
       "  </tbody>\n",
       "</table>\n",
       "</div>"
      ],
      "text/plain": [
       "Empty DataFrame\n",
       "Columns: []\n",
       "Index: []"
      ]
     },
     "execution_count": 243,
     "metadata": {},
     "output_type": "execute_result"
    }
   ],
   "source": [
    "pd.DataFrame(tableList[0])"
   ]
  }
 ],
 "metadata": {
  "kernelspec": {
   "display_name": "opencv+torch+v3",
   "language": "python",
   "name": "opencv_torch_v3"
  },
  "language_info": {
   "codemirror_mode": {
    "name": "ipython",
    "version": 3
   },
   "file_extension": ".py",
   "mimetype": "text/x-python",
   "name": "python",
   "nbconvert_exporter": "python",
   "pygments_lexer": "ipython3",
   "version": "3.7.9"
  }
 },
 "nbformat": 4,
 "nbformat_minor": 5
}
