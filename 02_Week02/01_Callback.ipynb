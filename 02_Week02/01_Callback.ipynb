{
 "cells": [
  {
   "cell_type": "markdown",
   "metadata": {},
   "source": [
    "# <font style=\"color:rgb(50,120,229)\"> How to use the Keyboard in OpenCV </font>\n",
    "\n",
    "Getting the input from the keyboard is done using the [**`waitKey()`**](https://docs.opencv.org/4.1.0/d7/dfc/group__highgui.html#ga5628525ad33f52eab17feebcfba38bd7) function.\n",
    "\n",
    "### <font style=\"color:rgb(8,133,37)\">Function Syntax </font>\n",
    "\n",
    "``` python\n",
    "retval\t=\tcv.waitKey(\t[, delay]\t)\n",
    "```\n",
    "\n",
    "**Parameters**\n",
    "- **`delay`** : Delay in milliseconds. 0 is the special value that means \"forever\".\n",
    "\n",
    "The code given below opens the webcam and displays text when ‘e/E’ or ‘z/Z’ is pressed. On pressing ‘ESC’ the program terminates and the display window closes. Note the use of **`waitKey`** here and how this time **`waitKey(0)`** has not been used rather there is some finite delay (10 s). This delay helps to see the text better else the text would disappear as soon as it got displayed.\n",
    "\n",
    "We will only focus on the relevant code snippet here.\n",
    "\n",
    "```python\n",
    "while(True):\n",
    "  # Read frame\n",
    "  ret,frame = cap.read()\n",
    "```\n",
    "\n",
    "The following if-else block is used to check which key is pressed.\n",
    "\n",
    "We use the **`waitKey()`** function to detect the input and respond only if either 'e' or 'z' is pressed. 'ESC'( ASCII code = 27) is used to exit the program.\n",
    "\n",
    "```python\n",
    "  # Identify if 'ESC' is pressed or not\n",
    "  if(k==27):\n",
    "    break\n",
    "  # Identify if 'e' or 'E' is pressed\n",
    "  if(k==101 or k==69):\n",
    "    # Do something\n",
    "  # Identify if 'z' or 'Z' is pressed\n",
    "  if(k==90 or k==122):\n",
    "    # Do something\n",
    "  # Display the frame\n",
    "  cv2.imshow(\"Image\",frame)\n",
    "  # Change waitkey to show display properly\n",
    "  k= cv2.waitKey(10000) & 0xFF\n",
    "```"
   ]
  },
  {
   "cell_type": "code",
   "execution_count": 1,
   "metadata": {},
   "outputs": [],
   "source": [
    "import cv2"
   ]
  },
  {
   "cell_type": "code",
   "execution_count": 2,
   "metadata": {},
   "outputs": [
    {
     "name": "stdout",
     "output_type": "stream",
     "text": [
      "69\n",
      "101\n",
      "90\n",
      "122\n"
     ]
    }
   ],
   "source": [
    "print(ord('E'))\n",
    "print(ord('e'))\n",
    "print(ord('Z'))\n",
    "print(ord('z'))"
   ]
  },
  {
   "cell_type": "code",
   "execution_count": 3,
   "metadata": {},
   "outputs": [
    {
     "name": "stdout",
     "output_type": "stream",
     "text": [
      "255\n",
      "255\n",
      "255\n",
      "113\n",
      "255\n",
      "255\n",
      "27\n"
     ]
    }
   ],
   "source": [
    "# Open webcam\n",
    "cap = cv2.VideoCapture(0)\n",
    "\n",
    "k = 0\n",
    "\n",
    "while(True):\n",
    "    # Read frame\n",
    "    ret, frame = cap.read()\n",
    "\n",
    "    # Identify if 'ESC' is pressed or not\n",
    "    if(k==27):\n",
    "        break\n",
    "\n",
    "    # Identify if 'e' or 'E' is pressed\n",
    "    if(k==101 or k==69):\n",
    "        cv2.putText(frame, \"E is pressed, press Z or ESC\", (100,180), cv2.FONT_HERSHEY_SIMPLEX, 1, (0,255,0), 3)\n",
    "\n",
    "    # Identify if 'z' or 'Z' is pressed\n",
    "    if(k==90 or k==122):\n",
    "        cv2.putText(frame, \"Z is pressed\", (100,180), cv2.FONT_HERSHEY_SIMPLEX, 1, (0,255,0), 3)\n",
    "\n",
    "    cv2.imshow(\"Image\", frame)\n",
    "\n",
    "    # Increase waitkey to show display properly\n",
    "    k = cv2.waitKey(1000) & 0xFF\n",
    "    print(k)\n",
    "\n",
    "cap.release()\n",
    "cv2.destroyAllWindows()"
   ]
  },
  {
   "cell_type": "markdown",
   "metadata": {},
   "source": [
    "# <font style=\"color:rgb(50,120,229)\"> How to use the Mouse in OpenCV </font>\n",
    "\n",
    "We can detect mouse events like *left-click*, *right-click* or *position* of the mouse on the window using OpenCV. For doing that, we need to create a **named window** and assign a **callback function** to the window. We will see how it is done in the code.\n",
    "\n",
    "The code given below draws a circle on the image. You first mark the center of the circle and then drag the mouse according to the radius desired. Multiple circles can be drawn. 'c' is used to clear the screen (the circles) and pressing 'ESC' terminates the program. We will see the detailed code in the code video. For now, let's just focus on the callback function.\n",
    "\n",
    "```python\n",
    "def drawCircle(action, x, y, flags, userdata):\n",
    "  # Referencing global variables \n",
    "  global center, circumference\n",
    "  # Action to be taken when left mouse button is pressed\n",
    "  if action==cv2.EVENT_LBUTTONDOWN:\n",
    "    center=[(x,y)]\n",
    "    # Mark the center\n",
    "    cv2.circle(source, center[0], 1, (255,255,0), 2, cv2.LINE_AA );\n",
    "\n",
    "  # Action to be taken when left mouse button is released\n",
    "  elif action==cv2.EVENT_LBUTTONUP:\n",
    "    circumference=[(x,y)]\n",
    "    # Calculate radius of the circle\n",
    "    radius = math.sqrt(math.pow(center[0][0]-circumference[0][0],2)+math.pow(center[0][1]-circumference[0][1],2))\n",
    "    # Draw the circle\n",
    "    cv2.circle(source, center[0], int(radius), (0,255,0),2, cv2.LINE_AA)\n",
    "    cv2.imshow(\"Window\",source)\n",
    "```\n",
    "\n",
    "**`drawCircle`** the callback function is called when there is a mouse event like left click ( indicated by **`EVENT_LBUTTONDOWN`** ). The coordinates relative to the namedWindow is captured by this function in the variables (x,y). The function records the points of the circle’s center and a point on the circumference, hence allowing us to draw the desired circle on the image.\n",
    "\n",
    "This is how the callback function is used:\n",
    "\n",
    "```python\n",
    "# highgui function called when mouse events occur\n",
    "cv2.setMouseCallback(\"Window\", drawCircle)\n",
    "```\n",
    "\n",
    "### <font style=\"color:rgb(8,133,37)\">Function Syntax </font>\n",
    "\n",
    "The function syntax for [**`cv2.setMouseCallback`**](https://docs.opencv.org/4.1.0/d7/dfc/group__highgui.html#ga89e7806b0a616f6f1d502bd8c183ad3e) is as follows.\n",
    "\n",
    "``` python\n",
    "cv.setMouseCallback(winname, onMouse, userdata\t)\n",
    "```\n",
    "\n",
    "**Parameters**\n",
    "\n",
    "- **`winname`** -\tName of the window.\n",
    "- **`onMouse`** -\tCallback function for mouse events.\n",
    "- **`userdata`** -\tThe optional parameter passed to the callback."
   ]
  },
  {
   "cell_type": "markdown",
   "metadata": {},
   "source": [
    "**FLAGS:** https://docs.opencv.org/3.4/d0/d90/group__highgui__window__flags.html#gaab4dc057947f70058c80626c9f1c25ce"
   ]
  },
  {
   "cell_type": "markdown",
   "metadata": {},
   "source": [
    "### <font style=\"color:rgb(8,133,37)\">Python [ Highgui - Mouse] [ using_the_mouse_for_annotation.py ]</font>"
   ]
  },
  {
   "cell_type": "code",
   "execution_count": 4,
   "metadata": {},
   "outputs": [],
   "source": [
    "import cv2\n",
    "import math"
   ]
  },
  {
   "cell_type": "markdown",
   "metadata": {},
   "source": [
    "This program shows how highgui enables us to take mouse inputs. In this code we use mouse input to draw a circle on an image. The mouse is dragged from the center to one of the points on the circumference. ‘c’ can be pressed to remove the drawn circles."
   ]
  },
  {
   "cell_type": "code",
   "execution_count": 5,
   "metadata": {},
   "outputs": [],
   "source": [
    "# Lists to store the points\n",
    "center = []\n",
    "marker = []\n",
    "circumference = []\n",
    "draw = False"
   ]
  },
  {
   "cell_type": "markdown",
   "metadata": {},
   "source": [
    "`drawCircle` is the callback function associated with the namedwindow. It is called when there is a mouse event like left click ( indicated by `EVENT_LBUTTONDOWN` ). \n",
    "\n",
    "The coordinates relative to the namedWindow is captured by this function in the variables `(x,y)`. The function records the points of the circle’s center and a point on the circumference, hence allowing us to draw the desired circle on the image."
   ]
  },
  {
   "cell_type": "code",
   "execution_count": 6,
   "metadata": {},
   "outputs": [],
   "source": [
    "def drawCircle(action, x, y, flags, userdata):\n",
    "    \n",
    "    # Referencing global variables \n",
    "    global center, circumference\n",
    "    \n",
    "    # print(center, circumference)\n",
    "    \n",
    "    # Action to be taken when left mouse button is pressed\n",
    "    if action==cv2.EVENT_LBUTTONDOWN:\n",
    "        center=[(x,y)]\n",
    "        draw=True\n",
    "        # Mark the center\n",
    "        cv2.circle(source, center[0], 1, (255,255,0), 2, cv2.LINE_AA )\n",
    "        \n",
    "        \n",
    "    # Action to be taken when left mouse button is released\n",
    "    if action==cv2.EVENT_LBUTTONUP:\n",
    "        circumference=[(x,y)]\n",
    "        \n",
    "        # Calculate radius of the circle\n",
    "        radius = math.sqrt(math.pow(center[0][0]-circumference[0][0], 2) + math.pow(center[0][1]-circumference[0][1], 2))\n",
    "    \n",
    "        # Draw the circle\n",
    "        cv2.circle(source, center[0], int(radius), (0,255,0), 2, cv2.LINE_AA)\n",
    "    \n",
    "        cv2.imshow(\"Window\", source)"
   ]
  },
  {
   "cell_type": "markdown",
   "metadata": {},
   "source": [
    "This is the main function. We read the image, setup the mouse callback function and loops till the ESC character is pressed.\n",
    "\n",
    "We use the `setMouseCallback` function to assign the function `drawCircle` defined above to the window named \"Window\""
   ]
  },
  {
   "cell_type": "code",
   "execution_count": 7,
   "metadata": {},
   "outputs": [],
   "source": [
    "def drawCirclev2(action, x, y, flags, userdata):\n",
    "\n",
    "    # Referencing global variables \n",
    "    global center, circumference, draw\n",
    "    \n",
    "    # Action to be taken when left mouse button is pressed\n",
    "    if action==cv2.EVENT_LBUTTONDOWN:\n",
    "        center=[(x,y)]\n",
    "        draw=True\n",
    "        cv2.circle(source, center[0], 1, (255,255,0), 2, cv2.LINE_AA )\n",
    "        \n",
    "    if (action==cv2.EVENT_MOUSEMOVE) and draw:\n",
    "        marker = [(x,y)]\n",
    "        cv2.line(source, center[0], marker[0], (255,255,0), thickness=1, lineType=cv2.LINE_AA)\n",
    "\n",
    "        \n",
    "    if (action==cv2.EVENT_LBUTTONUP) and draw: \n",
    "        \n",
    "        draw = False\n",
    "        circumference = [(x,y)]\n",
    "        \n",
    "        radius = math.sqrt(math.pow(center[0][0]-circumference[0][0], 2) + math.pow(center[0][1]-circumference[0][1], 2))\n",
    "        \n",
    "        cv2.circle(source, center[0], int(radius), (0,255,0), 2, cv2.LINE_AA)\n",
    "        \n",
    "    cv2.imshow(\"Window\", source)"
   ]
  },
  {
   "cell_type": "code",
   "execution_count": 8,
   "metadata": {},
   "outputs": [],
   "source": [
    "source = cv2.imread(\"data/images/sample.jpg\", 1)\n",
    "\n",
    "# Make a dummy image, will be useful to clear the drawing\n",
    "dummy = source.copy()\n",
    "cv2.namedWindow(\"Window\", cv2.WINDOW_NORMAL)\n",
    "\n",
    "scale = 1\n",
    "\n",
    "# highgui function called when mouse events occur\n",
    "cv2.setMouseCallback(\"Window\", drawCircle)\n",
    "k = 0\n",
    "\n",
    "# loop until escape character is pressed\n",
    "while k!=27 :\n",
    "\n",
    "    cv2.resizeWindow('Window', int(source.shape[1]*scale), int(source.shape[0]*scale) )\n",
    "    cv2.imshow(\"Window\", source)\n",
    "    \n",
    "    \n",
    "    cv2.putText(source,\n",
    "                '''Choose center, and drag, Press ESC to exit and c to clear''',\n",
    "                (10,30), \n",
    "                cv2.FONT_HERSHEY_SIMPLEX, \n",
    "                0.5,\n",
    "                (255,255,255), \n",
    "                2)\n",
    "    \n",
    "    k = cv2.waitKey(20) & 0xFF\n",
    "    \n",
    "    # Another way of cloning\n",
    "    if k==99:\n",
    "        source = dummy.copy()\n",
    "\n",
    "cv2.destroyAllWindows()"
   ]
  },
  {
   "cell_type": "markdown",
   "metadata": {},
   "source": [
    "## Assignment 2 - TEST"
   ]
  },
  {
   "cell_type": "code",
   "execution_count": 9,
   "metadata": {},
   "outputs": [],
   "source": [
    "import cv2\n",
    "import os"
   ]
  },
  {
   "cell_type": "code",
   "execution_count": 10,
   "metadata": {},
   "outputs": [],
   "source": [
    "def path_append_i(path, i):\n",
    "    return '.'.join([path.split('.')[0]+'_'+str(i), path.split('.')[1]])\n",
    "    \n",
    "\n",
    "def crop_face(action, x, y, flags, userdata):\n",
    "    \n",
    "    global point1, point2, i, image_path\n",
    "    \n",
    "    th = 2\n",
    "    \n",
    "    if action == cv2.EVENT_LBUTTONDOWN:\n",
    "        point1 = [(x, y)]\n",
    "    \n",
    "    if action == cv2.EVENT_LBUTTONUP:\n",
    "        point2 = [(x, y)]\n",
    "        \n",
    "        cv2.rectangle(image, point1[0], point2[0], color=(255, 0, 255), thickness=th)\n",
    "\n",
    "        start = ( min(point1[0][0], point2[0][0]), min(point1[0][1], point2[0][1]) )\n",
    "        end = ( max(point1[0][0], point2[0][0]), max(point1[0][1], point2[0][1]) )\n",
    "        \n",
    "        face = image[start[1]+th:end[1]-th, start[0]+th:end[0]-th]\n",
    "        \n",
    "        save_path = image_path\n",
    "        \n",
    "        while os.path.exists(save_path):\n",
    "            save_path = path_append_i(image_path, i)\n",
    "            i += 1\n",
    "        \n",
    "        cv2.imwrite(save_path, face)\n",
    "            \n",
    "        cv2.imshow('Window', image)"
   ]
  },
  {
   "cell_type": "code",
   "execution_count": 11,
   "metadata": {},
   "outputs": [],
   "source": [
    "image = cv2.imread('data/images/sample.jpg', 1)\n",
    "dummy = image.copy()\n",
    "\n",
    "point1, point2 = [], []\n",
    "i = 1\n",
    "path = 'data/images/output'\n",
    "image_name = 'face.jpg'\n",
    "image_path = os.path.join(path, image_name)\n",
    "\n",
    "cv2.namedWindow('Window')\n",
    "cv2.setMouseCallback('Window', crop_face)\n",
    "k = 0\n",
    "\n",
    "while k != 27:\n",
    "    \n",
    "    cv2.imshow('Window', image)\n",
    "    \n",
    "    # Read keyboard input\n",
    "    k = cv2.waitKey(1) & 0xFF\n",
    "    \n",
    "    # break the loop\n",
    "    if k == 27:\n",
    "        break \n",
    "        \n",
    "    # Clean the picture\n",
    "    if k==99:\n",
    "        source = dummy.copy()\n",
    "        \n",
    "cv2.destroyAllWindows()"
   ]
  },
  {
   "cell_type": "markdown",
   "metadata": {},
   "source": [
    "## Assignment 3 - TEST"
   ]
  },
  {
   "cell_type": "markdown",
   "metadata": {},
   "source": [
    "# <font style=\"color:rgb(50,120,229)\"> How to use Trackbars in OpenCV </font>\n",
    "\n",
    "In this section, we will see how trackbars can be used in OpenCV. We will use the thresholding operation to illustrate the usage of trackbars. \n",
    "\n",
    "For creating trackbars, we have to specify a **named window** and use the [**`cv2.createTrackbar()`**](https://docs.opencv.org/4.1.0/d7/dfc/group__highgui.html#gaf78d2155d30b728fc413803745b67a9b) function in which we need to specify the window name. A **callback function** needs to be specified for detecting events on the trackbar. Let’s see an example code.\n",
    "\n",
    "Let's first focus on the callback functions.\n",
    "\n",
    "The trackbars are created using the **`createTrackbar`** function. The different parameters of the function are given below.\n",
    "\n",
    "**`cv2.createTrackbar(trackbarName, windowName, value, count, onChange)`**\n",
    "\n",
    "- **`trackbarname`** is the name that will be displayed alongside the trackbar\n",
    "- **`windowName`** is the namedWindow associated with the callback function\n",
    "- **`value`** is a pointer to an integer variable whose value indicates the position of the trackbar\n",
    "- **`Count`** is the maximum position of the trackbar, minimum being 0 always\n",
    "- **`onChange`** is the callback function which is associated with the winname window and gets triggered when the trackbar is accessed by the user\n",
    "\n",
    "```python\n",
    "# Create Trackbar to choose scale percentage\n",
    "cv2.createTrackbar(trackbarValue, windowName, scaleFactor, maxScaleUp, scaleImage)\n",
    "\n",
    "# Create Trackbar to choose tyoe of scaling ( Up or Down )\n",
    "cv2.createTrackbar(trackbarType, windowName, scaleType, maxType, scaleImage)\n",
    "\n",
    "```"
   ]
  },
  {
   "cell_type": "markdown",
   "metadata": {},
   "source": [
    "This program shows how highgui enables us to dynamically vary variables using trackbars and record the change to produce various results. In this we use trackbars to threshold images. There are two trackbars which are used, one controls the threshold value while the other controls the threshold type."
   ]
  },
  {
   "cell_type": "code",
   "execution_count": 22,
   "metadata": {},
   "outputs": [],
   "source": [
    "import cv2\n",
    "\n",
    "maxScaleUp = 100\n",
    "scaleFactor = 1\n",
    "scaleType = 0\n",
    "maxType = 1\n",
    "\n",
    "params = {  'maxScaleUp': 100,\n",
    "            'scaleFactor': 1,\n",
    "            'scaleType': 0,\n",
    "            'maxType': 1\n",
    "         }\n",
    "\n",
    "windowName = \"Resize Image\"\n",
    "trackbarValue = \"Scale\"\n",
    "trackbarType = \"Type: \\n 0: Scale Up \\n 1: Scale Down\"\n",
    "\n",
    "# load an image\n",
    "im = cv2.imread(\"data/images/truth.png\")\n",
    "\n",
    "# Create a window to display results\n",
    "cv2.namedWindow(windowName, cv2.WINDOW_AUTOSIZE)"
   ]
  },
  {
   "cell_type": "markdown",
   "metadata": {},
   "source": [
    "We will create two trackbars\n",
    "1. For getting the scaling type\n",
    "1. For getting the percentage of scaling to be done.\n",
    "\n",
    "```python\n",
    "# Create Trackbar to choose percentage of scaling\n",
    "cv2.createTrackbar(trackbarValue, windowName, scaleFactor, maxScaleUp, scaleImage);\n",
    "\n",
    "# Create Trackbar to choose type of scaling ( Up or down )\n",
    "cv2.createTrackbar(trackbarType, windowName, scaleType, maxType, scaleTypeImage);\n",
    "\n",
    "```\n",
    "In the above code, \n",
    "- windowName is the name of the window where the trackbars are displayed.\n",
    "- scaleFactor and scaleType are the variables where the values will be updated whenever there is an event on the trackbar.\n",
    "- maxScaleUp and maxType are constants which specify the maximum values the trackbars can take\n",
    "- scaleImage and scaleTypeImage are the **CALLBACK** functions"
   ]
  },
  {
   "cell_type": "code",
   "execution_count": 19,
   "metadata": {},
   "outputs": [],
   "source": [
    "# Callback functions\n",
    "def scaleImage(*args):\n",
    "\n",
    "    global scaleType\n",
    "    global scaleFactor\n",
    "    \n",
    "#     scaleFactor = params['scaleFactor']\n",
    "#     scaleType = params['scaleType']\n",
    "    \n",
    "    # Check if Up- or Downscaling\n",
    "    if scaleType == 0:\n",
    "        factor = 1\n",
    "    else:\n",
    "        factor = -1\n",
    "    \n",
    "    \n",
    "    # Get the scale factor from the trackbar \n",
    "    scaleFactor = 1 + factor*args[0]/100.0\n",
    "    # print('scaleImage scaleFactor', scaleFactor)\n",
    "    \n",
    "    # Perform check if scaleFactor is zero\n",
    "    if scaleFactor == 0:\n",
    "        scaleFactor = 1\n",
    "    \n",
    "    # Resize the image\n",
    "    scaledImage = cv2.resize(im, None, fx=scaleFactor, fy = scaleFactor, interpolation = cv2.INTER_LINEAR)\n",
    "    \n",
    "    cv2.imshow(windowName, scaledImage)\n",
    "\n",
    "\n",
    "def scaleTypeImage(*args):\n",
    "    \n",
    "    global scaleType\n",
    "    global scaleFactor\n",
    "\n",
    "#     scaleFactor = params['scaleFactor']\n",
    "#     scaleType = params['scaleType']\n",
    "    \n",
    "    scaleType = args[0]\n",
    "    # print('scaleTypeImage scaleType', scaleType)\n",
    "    \n",
    "    # Check if Up- or Downscaling\n",
    "    if scaleType == 0:\n",
    "        factor = 1\n",
    "    else:\n",
    "        factor = -1\n",
    "    \n",
    "    # Get the scale factor from the trackbar \n",
    "    scaleFactor = 1 + factor*args[0]/100.0\n",
    "    # print('scaleTypeImage scaleFactor', scaleFactor)\n",
    "    \n",
    "    if scaleFactor == 0:\n",
    "        scaleFactor = 1\n",
    "        \n",
    "    scaledImage = cv2.resize(im, None, fx=scaleFactor, fy = scaleFactor, interpolation = cv2.INTER_LINEAR)\n",
    "    \n",
    "    cv2.imshow(windowName, scaledImage)"
   ]
  },
  {
   "cell_type": "markdown",
   "metadata": {},
   "source": [
    "These are the callback functions which are called every time the trackbars are used. Whenever there is any activity on the trackbars, these function get called and the values on the trackbars are updated in the variables associated with the trackbars."
   ]
  },
  {
   "cell_type": "code",
   "execution_count": 23,
   "metadata": {},
   "outputs": [],
   "source": [
    "cv2.createTrackbar(trackbarValue, windowName, scaleFactor, maxScaleUp, scaleImage)\n",
    "cv2.createTrackbar(trackbarType, windowName, scaleType, maxType, scaleTypeImage)\n",
    "\n",
    "cv2.imshow(windowName, im)\n",
    "c = cv2.waitKey(0)\n",
    "\n",
    "cv2.destroyAllWindows()"
   ]
  }
 ],
 "metadata": {
  "kernelspec": {
   "display_name": "opencv+torch+v3",
   "language": "python",
   "name": "opencv_torch_v3"
  },
  "language_info": {
   "codemirror_mode": {
    "name": "ipython",
    "version": 3
   },
   "file_extension": ".py",
   "mimetype": "text/x-python",
   "name": "python",
   "nbconvert_exporter": "python",
   "pygments_lexer": "ipython3",
   "version": "3.7.9"
  }
 },
 "nbformat": 4,
 "nbformat_minor": 2
}
